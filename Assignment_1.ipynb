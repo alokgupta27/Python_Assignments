{
  "nbformat": 4,
  "nbformat_minor": 0,
  "metadata": {
    "colab": {
      "provenance": [],
      "mount_file_id": "1XbhNRghOAhYuFlMyfQyOGyHX038YLAP1",
      "authorship_tag": "ABX9TyMe5FoIac+dySyW5fKC3sxp",
      "include_colab_link": true
    },
    "kernelspec": {
      "name": "python3",
      "display_name": "Python 3"
    },
    "language_info": {
      "name": "python"
    }
  },
  "cells": [
    {
      "cell_type": "markdown",
      "metadata": {
        "id": "view-in-github",
        "colab_type": "text"
      },
      "source": [
        "<a href=\"https://colab.research.google.com/github/alokgupta27/Python_Assignments/blob/main/Assignment_1.ipynb\" target=\"_parent\"><img src=\"https://colab.research.google.com/assets/colab-badge.svg\" alt=\"Open In Colab\"/></a>"
      ]
    },
    {
      "cell_type": "markdown",
      "source": [
        "\n",
        "# **Solution #1**"
      ],
      "metadata": {
        "id": "p0pzJBB1w-Bo"
      }
    },
    {
      "cell_type": "code",
      "source": [
        "# Declaring variables for points\n",
        "p_win = 3\n",
        "p_draw = 1\n",
        "p_loss = 0"
      ],
      "metadata": {
        "id": "07Tbr-Ys0pTe"
      },
      "execution_count": 30,
      "outputs": []
    },
    {
      "cell_type": "code",
      "source": [
        "# Calculating total points\n",
        "def total(points,matches):\n",
        "    return (points*matches)"
      ],
      "metadata": {
        "id": "Z2X5fsVV2IKF"
      },
      "execution_count": 31,
      "outputs": []
    },
    {
      "cell_type": "code",
      "source": [
        "# The outcome variables are defined below\n",
        "wins = 4\n",
        "losses = 3\n",
        "draws = 1"
      ],
      "metadata": {
        "id": "PiY5htxF2jND"
      },
      "execution_count": 32,
      "outputs": []
    },
    {
      "cell_type": "code",
      "source": [
        "# Calculate the total points gained by Team Aravali\n",
        "aravali_points = total(p_win, wins) + total(p_loss, losses) + total(p_draw, draws)"
      ],
      "metadata": {
        "id": "-1g7EjoT2qiu"
      },
      "execution_count": 33,
      "outputs": []
    },
    {
      "cell_type": "code",
      "source": [
        "# Print the variable aravali_points\n",
        "print(\"Total points gained by Aravali Team : %d\" %aravali_points)"
      ],
      "metadata": {
        "colab": {
          "base_uri": "https://localhost:8080/"
        },
        "id": "fdq2pbNy5MSy",
        "outputId": "7d5a6947-f3df-457a-eb74-78bd8a19d662"
      },
      "execution_count": 34,
      "outputs": [
        {
          "output_type": "stream",
          "name": "stdout",
          "text": [
            "Total points gained by Aravali Team : 13\n"
          ]
        }
      ]
    },
    {
      "cell_type": "markdown",
      "source": [
        "# **Solution #2**"
      ],
      "metadata": {
        "id": "6sFuoNg75g6V"
      }
    }
  ]
}