{
  "nbformat": 4,
  "nbformat_minor": 0,
  "metadata": {
    "colab": {
      "provenance": [],
      "mount_file_id": "1XbhNRghOAhYuFlMyfQyOGyHX038YLAP1",
      "authorship_tag": "ABX9TyOTHS3ObnZA+h0JRI62H0Z7",
      "include_colab_link": true
    },
    "kernelspec": {
      "name": "python3",
      "display_name": "Python 3"
    },
    "language_info": {
      "name": "python"
    }
  },
  "cells": [
    {
      "cell_type": "markdown",
      "metadata": {
        "id": "view-in-github",
        "colab_type": "text"
      },
      "source": [
        "<a href=\"https://colab.research.google.com/github/alokgupta27/Python_Assignments/blob/main/Assignment_1.ipynb\" target=\"_parent\"><img src=\"https://colab.research.google.com/assets/colab-badge.svg\" alt=\"Open In Colab\"/></a>"
      ]
    },
    {
      "cell_type": "markdown",
      "source": [
        "\n",
        "# **Solution #1**"
      ],
      "metadata": {
        "id": "p0pzJBB1w-Bo"
      }
    },
    {
      "cell_type": "code",
      "source": [
        "# Declaring variables for points\n",
        "p_win = 3\n",
        "p_draw = 1\n",
        "p_loss = 0"
      ],
      "metadata": {
        "id": "07Tbr-Ys0pTe"
      },
      "execution_count": 231,
      "outputs": []
    },
    {
      "cell_type": "code",
      "source": [
        "# Calculating total points\n",
        "def total(points,matches):\n",
        "    return (points*matches)"
      ],
      "metadata": {
        "id": "Z2X5fsVV2IKF"
      },
      "execution_count": 232,
      "outputs": []
    },
    {
      "cell_type": "code",
      "source": [
        "# The outcome variables are defined below\n",
        "wins = 4\n",
        "losses = 3\n",
        "draws = 1"
      ],
      "metadata": {
        "id": "PiY5htxF2jND"
      },
      "execution_count": 233,
      "outputs": []
    },
    {
      "cell_type": "code",
      "source": [
        "# Calculate the total points gained by Team Aravali\n",
        "aravali_points = total(p_win, wins) + total(p_loss, losses) + total(p_draw, draws)"
      ],
      "metadata": {
        "id": "-1g7EjoT2qiu"
      },
      "execution_count": 234,
      "outputs": []
    },
    {
      "cell_type": "code",
      "source": [
        "# Print the variable aravali_points\n",
        "print(\"Total points gained by Aravali Team : %d\" %aravali_points)"
      ],
      "metadata": {
        "colab": {
          "base_uri": "https://localhost:8080/"
        },
        "id": "fdq2pbNy5MSy",
        "outputId": "bf7d4639-382d-411a-cf73-318d09c193b1"
      },
      "execution_count": 235,
      "outputs": [
        {
          "output_type": "stream",
          "name": "stdout",
          "text": [
            "Total points gained by Aravali Team : 13\n"
          ]
        }
      ]
    },
    {
      "cell_type": "markdown",
      "source": [
        "# **Solution #2**"
      ],
      "metadata": {
        "id": "6sFuoNg75g6V"
      }
    },
    {
      "cell_type": "code",
      "source": [
        "# Define f(x) function\n",
        "def quadratic(x):\n",
        "    return pow(x, 2) + 3*x - 4"
      ],
      "metadata": {
        "id": "C-VDx2Hq-pU5"
      },
      "execution_count": 236,
      "outputs": []
    },
    {
      "cell_type": "code",
      "source": [
        "# Calculate the value of the function f(x) at x = 2\n",
        "func_evaluated_at_2 = quadratic(2)"
      ],
      "metadata": {
        "id": "mG8LMJhJ_nCu"
      },
      "execution_count": 237,
      "outputs": []
    },
    {
      "cell_type": "code",
      "source": [
        "print(\"Value of func_evaluated_at_2 : %d\" %func_evaluated_at_2)"
      ],
      "metadata": {
        "colab": {
          "base_uri": "https://localhost:8080/"
        },
        "id": "4fzcd17SAInn",
        "outputId": "d1bc5547-dac2-4042-e922-aada63a8dcf8"
      },
      "execution_count": 238,
      "outputs": [
        {
          "output_type": "stream",
          "name": "stdout",
          "text": [
            "Value of func_evaluated_at_2 : 6\n"
          ]
        }
      ]
    },
    {
      "cell_type": "code",
      "source": [
        "# Calculate the value of the function f(x) at x = -1\n",
        "func_evaluated_at_minus1 = quadratic(-1)"
      ],
      "metadata": {
        "id": "j3r-iclZAXop"
      },
      "execution_count": 239,
      "outputs": []
    },
    {
      "cell_type": "code",
      "source": [
        "print(\"Value of func_evaluated_at_minus1 : %d\" %func_evaluated_at_minus1)"
      ],
      "metadata": {
        "colab": {
          "base_uri": "https://localhost:8080/"
        },
        "id": "m4I0lSvRAhsL",
        "outputId": "e9765833-d2de-4709-9241-b99046f15244"
      },
      "execution_count": 240,
      "outputs": [
        {
          "output_type": "stream",
          "name": "stdout",
          "text": [
            "Value of func_evaluated_at_minus1 : -6\n"
          ]
        }
      ]
    },
    {
      "cell_type": "code",
      "source": [
        "# Calculate the value of the function f(x) at x = 1\n",
        "func_evaluated_at_1 = quadratic(1)"
      ],
      "metadata": {
        "id": "kh6fs9x5Aude"
      },
      "execution_count": 241,
      "outputs": []
    },
    {
      "cell_type": "code",
      "source": [
        "print(\"Value of func_evaluated_at_1 : %d\" %func_evaluated_at_1)"
      ],
      "metadata": {
        "colab": {
          "base_uri": "https://localhost:8080/"
        },
        "id": "0WYNbeUfAzX5",
        "outputId": "e36d28e9-abeb-4028-8989-e1a451402b86"
      },
      "execution_count": 242,
      "outputs": [
        {
          "output_type": "stream",
          "name": "stdout",
          "text": [
            "Value of func_evaluated_at_1 : 0\n"
          ]
        }
      ]
    },
    {
      "cell_type": "code",
      "source": [
        "# Declare function to validate input value is a root of f(x) or not\n",
        "def is_value_a_root_of_fx(input_value):\n",
        "    return input == math.sqrt(quadratic(input_value))"
      ],
      "metadata": {
        "id": "xA3AiELYGKcf"
      },
      "execution_count": 243,
      "outputs": []
    },
    {
      "cell_type": "code",
      "source": [
        "import math\n",
        "\n",
        "# Check whether 2 is a root of f(x)\n",
        "print(\"Is 2 a root of f(x) : %r\" %is_value_a_root_of_fx(2))"
      ],
      "metadata": {
        "colab": {
          "base_uri": "https://localhost:8080/"
        },
        "id": "ZNoR9y45A4IC",
        "outputId": "d43a837e-5479-4097-e132-bc0041eb66c9"
      },
      "execution_count": 244,
      "outputs": [
        {
          "output_type": "stream",
          "name": "stdout",
          "text": [
            "Is 2 a root of f(x) : False\n"
          ]
        }
      ]
    },
    {
      "cell_type": "code",
      "source": [
        "import math\n",
        "\n",
        "# Check whether -1 is a root of f(x)\n",
        "# print(\"Is -1 a root of f(x) : %r\" %is_value_a_root_of_fx(-1))\n",
        "print(\"Can't evaluate due to negative number\")"
      ],
      "metadata": {
        "colab": {
          "base_uri": "https://localhost:8080/"
        },
        "id": "lbgrgcMFFysW",
        "outputId": "1cf3954d-35e8-4940-b111-43df09bf2953"
      },
      "execution_count": 245,
      "outputs": [
        {
          "output_type": "stream",
          "name": "stdout",
          "text": [
            "Can't evaluate due to negative number\n"
          ]
        }
      ]
    },
    {
      "cell_type": "code",
      "source": [
        "import math\n",
        "\n",
        "# Check whether 1 is a root of f(x)\n",
        "print(\"Is 1 a root of f(x) : %r\" %is_value_a_root_of_fx(1))"
      ],
      "metadata": {
        "colab": {
          "base_uri": "https://localhost:8080/"
        },
        "id": "LydL3B42GwNN",
        "outputId": "1856ff6d-b99f-4873-d8fc-b5e9d9f71047"
      },
      "execution_count": 246,
      "outputs": [
        {
          "output_type": "stream",
          "name": "stdout",
          "text": [
            "Is 1 a root of f(x) : False\n"
          ]
        }
      ]
    },
    {
      "cell_type": "markdown",
      "source": [
        "# **Solution #3**"
      ],
      "metadata": {
        "id": "iYrUef15I2ar"
      }
    },
    {
      "cell_type": "code",
      "source": [
        "# Define percent calculation function\n",
        "def get_item_percentage(total_items, no_of_items):\n",
        "    return (no_of_items / total_items) * 100"
      ],
      "metadata": {
        "id": "w9rYvRuvI-50"
      },
      "execution_count": 280,
      "outputs": []
    },
    {
      "cell_type": "code",
      "source": [
        "# Define no of items\n",
        "apples = 45\n",
        "oranges = 65\n",
        "bananas = 30\n",
        "\n",
        "total = apples + oranges + bananas"
      ],
      "metadata": {
        "id": "qeotC2TeK3__"
      },
      "execution_count": 281,
      "outputs": []
    },
    {
      "cell_type": "code",
      "source": [
        "# Calculate the percentage of apples and print the variable\n",
        "print(f\"apples are : {get_item_percentage(total, apples):.2f}%\")"
      ],
      "metadata": {
        "colab": {
          "base_uri": "https://localhost:8080/"
        },
        "id": "clrT2mh-Lie9",
        "outputId": "0ca68c99-4de1-48fc-88c5-360358d1cdb5"
      },
      "execution_count": 282,
      "outputs": [
        {
          "output_type": "stream",
          "name": "stdout",
          "text": [
            "apples are : 32.14%\n"
          ]
        }
      ]
    },
    {
      "cell_type": "code",
      "source": [
        "# Calculate the percentage of oranges and print the variable\n",
        "print(f\"oranges are : {get_item_percentage(total, oranges):.2f}%\")"
      ],
      "metadata": {
        "colab": {
          "base_uri": "https://localhost:8080/"
        },
        "id": "randha8SPQdA",
        "outputId": "09dd61ff-2706-4663-cd54-c53d651014ec"
      },
      "execution_count": 283,
      "outputs": [
        {
          "output_type": "stream",
          "name": "stdout",
          "text": [
            "oranges are : 46.43%\n"
          ]
        }
      ]
    },
    {
      "cell_type": "code",
      "source": [
        "# Calculate the percentage of bananas and print the variable\n",
        "print(f\"bananas are : {get_item_percentage(total, bananas):.2f}%\")"
      ],
      "metadata": {
        "colab": {
          "base_uri": "https://localhost:8080/"
        },
        "id": "pOZDowpgPWCR",
        "outputId": "7e0e8556-7f15-4341-b090-f3ed840f6bcc"
      },
      "execution_count": 284,
      "outputs": [
        {
          "output_type": "stream",
          "name": "stdout",
          "text": [
            "bananas are : 21.43%\n"
          ]
        }
      ]
    },
    {
      "cell_type": "markdown",
      "source": [
        "# Solution #**4**"
      ],
      "metadata": {
        "id": "pu5NJGDOPiSz"
      }
    }
  ]
}