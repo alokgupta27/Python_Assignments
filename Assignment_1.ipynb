{
  "nbformat": 4,
  "nbformat_minor": 0,
  "metadata": {
    "colab": {
      "provenance": [],
      "mount_file_id": "1XbhNRghOAhYuFlMyfQyOGyHX038YLAP1",
      "authorship_tag": "ABX9TyP+0tVzADCQMieKEHdE8O8O",
      "include_colab_link": true
    },
    "kernelspec": {
      "name": "python3",
      "display_name": "Python 3"
    },
    "language_info": {
      "name": "python"
    }
  },
  "cells": [
    {
      "cell_type": "markdown",
      "metadata": {
        "id": "view-in-github",
        "colab_type": "text"
      },
      "source": [
        "<a href=\"https://colab.research.google.com/github/alokgupta27/Python_Assignments/blob/main/Assignment_1.ipynb\" target=\"_parent\"><img src=\"https://colab.research.google.com/assets/colab-badge.svg\" alt=\"Open In Colab\"/></a>"
      ]
    },
    {
      "cell_type": "markdown",
      "source": [
        "\n",
        "# **Solution #1**"
      ],
      "metadata": {
        "id": "p0pzJBB1w-Bo"
      }
    },
    {
      "cell_type": "code",
      "source": [
        "# Declaring variables for points\n",
        "p_win = 3\n",
        "p_draw = 1\n",
        "p_loss = 0"
      ],
      "metadata": {
        "id": "07Tbr-Ys0pTe"
      },
      "execution_count": 330,
      "outputs": []
    },
    {
      "cell_type": "code",
      "source": [
        "# Calculating total points\n",
        "def total(points,matches):\n",
        "    return (points*matches)"
      ],
      "metadata": {
        "id": "Z2X5fsVV2IKF"
      },
      "execution_count": 331,
      "outputs": []
    },
    {
      "cell_type": "code",
      "source": [
        "# The outcome variables are defined below\n",
        "wins = 4\n",
        "losses = 3\n",
        "draws = 1"
      ],
      "metadata": {
        "id": "PiY5htxF2jND"
      },
      "execution_count": 332,
      "outputs": []
    },
    {
      "cell_type": "code",
      "source": [
        "# Calculate the total points gained by Team Aravali\n",
        "aravali_points = total(p_win, wins) + total(p_loss, losses) + total(p_draw, draws)"
      ],
      "metadata": {
        "id": "-1g7EjoT2qiu"
      },
      "execution_count": 333,
      "outputs": []
    },
    {
      "cell_type": "code",
      "source": [
        "# Print the variable aravali_points\n",
        "print(\"Total points gained by Aravali Team : %d\" %aravali_points)"
      ],
      "metadata": {
        "colab": {
          "base_uri": "https://localhost:8080/"
        },
        "id": "fdq2pbNy5MSy",
        "outputId": "5f3afd63-0d46-4511-ace4-1bf8dd3b4d6f"
      },
      "execution_count": 334,
      "outputs": [
        {
          "output_type": "stream",
          "name": "stdout",
          "text": [
            "Total points gained by Aravali Team : 13\n"
          ]
        }
      ]
    },
    {
      "cell_type": "markdown",
      "source": [
        "# **Solution #2**"
      ],
      "metadata": {
        "id": "6sFuoNg75g6V"
      }
    },
    {
      "cell_type": "code",
      "source": [
        "# Define f(x) function\n",
        "def quadratic(x):\n",
        "    return pow(x, 2) + 3*x - 4"
      ],
      "metadata": {
        "id": "C-VDx2Hq-pU5"
      },
      "execution_count": 335,
      "outputs": []
    },
    {
      "cell_type": "code",
      "source": [
        "# Calculate the value of the function f(x) at x = 2\n",
        "func_evaluated_at_2 = quadratic(2)"
      ],
      "metadata": {
        "id": "mG8LMJhJ_nCu"
      },
      "execution_count": 336,
      "outputs": []
    },
    {
      "cell_type": "code",
      "source": [
        "print(\"Value of func_evaluated_at_2 : %d\" %func_evaluated_at_2)"
      ],
      "metadata": {
        "colab": {
          "base_uri": "https://localhost:8080/"
        },
        "id": "4fzcd17SAInn",
        "outputId": "12418ecf-5580-4004-bf5c-03436887b045"
      },
      "execution_count": 337,
      "outputs": [
        {
          "output_type": "stream",
          "name": "stdout",
          "text": [
            "Value of func_evaluated_at_2 : 6\n"
          ]
        }
      ]
    },
    {
      "cell_type": "code",
      "source": [
        "# Calculate the value of the function f(x) at x = -1\n",
        "func_evaluated_at_minus1 = quadratic(-1)"
      ],
      "metadata": {
        "id": "j3r-iclZAXop"
      },
      "execution_count": 338,
      "outputs": []
    },
    {
      "cell_type": "code",
      "source": [
        "print(\"Value of func_evaluated_at_minus1 : %d\" %func_evaluated_at_minus1)"
      ],
      "metadata": {
        "colab": {
          "base_uri": "https://localhost:8080/"
        },
        "id": "m4I0lSvRAhsL",
        "outputId": "71e680ae-0b89-4d37-b1de-f8db68e4998e"
      },
      "execution_count": 339,
      "outputs": [
        {
          "output_type": "stream",
          "name": "stdout",
          "text": [
            "Value of func_evaluated_at_minus1 : -6\n"
          ]
        }
      ]
    },
    {
      "cell_type": "code",
      "source": [
        "# Calculate the value of the function f(x) at x = 1\n",
        "func_evaluated_at_1 = quadratic(1)"
      ],
      "metadata": {
        "id": "kh6fs9x5Aude"
      },
      "execution_count": 340,
      "outputs": []
    },
    {
      "cell_type": "code",
      "source": [
        "print(\"Value of func_evaluated_at_1 : %d\" %func_evaluated_at_1)"
      ],
      "metadata": {
        "colab": {
          "base_uri": "https://localhost:8080/"
        },
        "id": "0WYNbeUfAzX5",
        "outputId": "7c21a4a1-2788-4b8a-8b93-e85371d54ddb"
      },
      "execution_count": 341,
      "outputs": [
        {
          "output_type": "stream",
          "name": "stdout",
          "text": [
            "Value of func_evaluated_at_1 : 0\n"
          ]
        }
      ]
    },
    {
      "cell_type": "code",
      "source": [
        "# Declare function to validate input value is a root of f(x) or not\n",
        "def is_value_a_root_of_fx(input_value):\n",
        "    return input == math.sqrt(quadratic(input_value))"
      ],
      "metadata": {
        "id": "xA3AiELYGKcf"
      },
      "execution_count": 342,
      "outputs": []
    },
    {
      "cell_type": "code",
      "source": [
        "import math\n",
        "\n",
        "# Check whether 2 is a root of f(x)\n",
        "print(\"Is 2 a root of f(x) : %r\" %is_value_a_root_of_fx(2))"
      ],
      "metadata": {
        "colab": {
          "base_uri": "https://localhost:8080/"
        },
        "id": "ZNoR9y45A4IC",
        "outputId": "f292868f-901a-4f0a-8e8f-06ffdde088d0"
      },
      "execution_count": 343,
      "outputs": [
        {
          "output_type": "stream",
          "name": "stdout",
          "text": [
            "Is 2 a root of f(x) : False\n"
          ]
        }
      ]
    },
    {
      "cell_type": "code",
      "source": [
        "import math\n",
        "\n",
        "# Check whether -1 is a root of f(x)\n",
        "# print(\"Is -1 a root of f(x) : %r\" %is_value_a_root_of_fx(-1))\n",
        "print(\"Can't evaluate due to negative number\")"
      ],
      "metadata": {
        "colab": {
          "base_uri": "https://localhost:8080/"
        },
        "id": "lbgrgcMFFysW",
        "outputId": "f4aaf9db-603c-4ea3-d55c-171c3ad5884f"
      },
      "execution_count": 344,
      "outputs": [
        {
          "output_type": "stream",
          "name": "stdout",
          "text": [
            "Can't evaluate due to negative number\n"
          ]
        }
      ]
    },
    {
      "cell_type": "code",
      "source": [
        "import math\n",
        "\n",
        "# Check whether 1 is a root of f(x)\n",
        "print(\"Is 1 a root of f(x) : %r\" %is_value_a_root_of_fx(1))"
      ],
      "metadata": {
        "colab": {
          "base_uri": "https://localhost:8080/"
        },
        "id": "LydL3B42GwNN",
        "outputId": "c23693d5-8026-4c9c-ada2-1cef65a0f654"
      },
      "execution_count": 345,
      "outputs": [
        {
          "output_type": "stream",
          "name": "stdout",
          "text": [
            "Is 1 a root of f(x) : False\n"
          ]
        }
      ]
    },
    {
      "cell_type": "markdown",
      "source": [
        "# **Solution #3**"
      ],
      "metadata": {
        "id": "iYrUef15I2ar"
      }
    },
    {
      "cell_type": "code",
      "source": [
        "# Define percent calculation function\n",
        "def get_item_percentage(total_items, no_of_items):\n",
        "    return (no_of_items / total_items) * 100"
      ],
      "metadata": {
        "id": "w9rYvRuvI-50"
      },
      "execution_count": 346,
      "outputs": []
    },
    {
      "cell_type": "code",
      "source": [
        "# Define no of items\n",
        "apples = 45\n",
        "oranges = 65\n",
        "bananas = 30\n",
        "\n",
        "total = apples + oranges + bananas"
      ],
      "metadata": {
        "id": "qeotC2TeK3__"
      },
      "execution_count": 347,
      "outputs": []
    },
    {
      "cell_type": "code",
      "source": [
        "# Calculate the percentage of apples and print the variable\n",
        "print(f\"apples are : {get_item_percentage(total, apples):.2f}%\")"
      ],
      "metadata": {
        "colab": {
          "base_uri": "https://localhost:8080/"
        },
        "id": "clrT2mh-Lie9",
        "outputId": "aba79477-c816-4484-f4f5-3129ce62fbf0"
      },
      "execution_count": 348,
      "outputs": [
        {
          "output_type": "stream",
          "name": "stdout",
          "text": [
            "apples are : 32.14%\n"
          ]
        }
      ]
    },
    {
      "cell_type": "code",
      "source": [
        "# Calculate the percentage of oranges and print the variable\n",
        "print(f\"oranges are : {get_item_percentage(total, oranges):.2f}%\")"
      ],
      "metadata": {
        "colab": {
          "base_uri": "https://localhost:8080/"
        },
        "id": "randha8SPQdA",
        "outputId": "43dd2632-7581-4888-abe6-f9fd40e54eff"
      },
      "execution_count": 349,
      "outputs": [
        {
          "output_type": "stream",
          "name": "stdout",
          "text": [
            "oranges are : 46.43%\n"
          ]
        }
      ]
    },
    {
      "cell_type": "code",
      "source": [
        "# Calculate the percentage of bananas and print the variable\n",
        "print(f\"bananas are : {get_item_percentage(total, bananas):.2f}%\")"
      ],
      "metadata": {
        "colab": {
          "base_uri": "https://localhost:8080/"
        },
        "id": "pOZDowpgPWCR",
        "outputId": "e2b597ef-35f3-4d65-8c3c-823f47801d2e"
      },
      "execution_count": 350,
      "outputs": [
        {
          "output_type": "stream",
          "name": "stdout",
          "text": [
            "bananas are : 21.43%\n"
          ]
        }
      ]
    },
    {
      "cell_type": "markdown",
      "source": [
        "# Solution #**4**"
      ],
      "metadata": {
        "id": "pu5NJGDOPiSz"
      }
    },
    {
      "cell_type": "code",
      "source": [
        "# Defining variables for the number of Maths, Economics and Physics majors\n",
        "math_majors = 30\n",
        "economic_majors = 45\n",
        "physics_majors = 25\n",
        "# Defining variables for the number of your correct guesses of Maths, Economics and Physics majors\n",
        "math_correct_guesses = 20\n",
        "economic_correct_guesses = 30\n",
        "physics_correct_guesses = 20"
      ],
      "metadata": {
        "id": "kc8qOEZPP1tm"
      },
      "execution_count": 351,
      "outputs": []
    },
    {
      "cell_type": "code",
      "source": [
        "def cal_accuracy(no_majors, no_guesses):\n",
        "    return (no_guesses/no_majors) * 100"
      ],
      "metadata": {
        "id": "ba7fOXdwTVrT"
      },
      "execution_count": 352,
      "outputs": []
    },
    {
      "cell_type": "code",
      "source": [
        "# Print the Maths accuracy\n",
        "print(f\"Math accuracy : {cal_accuracy(math_majors, math_correct_guesses):.2f}%\")"
      ],
      "metadata": {
        "colab": {
          "base_uri": "https://localhost:8080/"
        },
        "id": "0GpRXho7WTtT",
        "outputId": "0a9400c0-89cb-43d0-fb40-9ec96c363e8f"
      },
      "execution_count": 353,
      "outputs": [
        {
          "output_type": "stream",
          "name": "stdout",
          "text": [
            "Math accuracy : 66.67%\n"
          ]
        }
      ]
    },
    {
      "cell_type": "code",
      "source": [
        "# Print the Economics accuracy\n",
        "print(f\"Economics accuracy : {cal_accuracy(economic_majors, economic_correct_guesses):.2f}%\")"
      ],
      "metadata": {
        "colab": {
          "base_uri": "https://localhost:8080/"
        },
        "id": "14-eLnmOXrE6",
        "outputId": "1d0c8464-eb19-4eb9-9223-d29dceef34ac"
      },
      "execution_count": 354,
      "outputs": [
        {
          "output_type": "stream",
          "name": "stdout",
          "text": [
            "Economics accuracy : 66.67%\n"
          ]
        }
      ]
    },
    {
      "cell_type": "code",
      "source": [
        "# Print the Economics accuracy\n",
        "print(f\"Physics accuracy : {cal_accuracy(physics_majors, physics_correct_guesses):.2f}%\")"
      ],
      "metadata": {
        "colab": {
          "base_uri": "https://localhost:8080/"
        },
        "id": "JGUBOafWXsYL",
        "outputId": "6549b7cf-733f-481d-9ef1-7182ffe5afff"
      },
      "execution_count": 355,
      "outputs": [
        {
          "output_type": "stream",
          "name": "stdout",
          "text": [
            "Physics accuracy : 80.00%\n"
          ]
        }
      ]
    },
    {
      "cell_type": "code",
      "source": [
        "# Defining variables for totals\n",
        "total_majors = math_majors + physics_majors + economic_majors\n",
        "total_guessses = math_correct_guesses + physics_correct_guesses + economic_correct_guesses"
      ],
      "metadata": {
        "id": "yQMsUVJ_jz_X"
      },
      "execution_count": 356,
      "outputs": []
    },
    {
      "cell_type": "code",
      "source": [
        "# Print the overall accuracy\n",
        "print(f\"Total accuracy : {cal_accuracy(total_majors, total_guessses):.2f}%\")"
      ],
      "metadata": {
        "colab": {
          "base_uri": "https://localhost:8080/"
        },
        "id": "ruRybzxCjfoC",
        "outputId": "a060160a-847b-40c9-e489-fe43b92d624c"
      },
      "execution_count": 357,
      "outputs": [
        {
          "output_type": "stream",
          "name": "stdout",
          "text": [
            "Total accuracy : 70.00%\n"
          ]
        }
      ]
    }
  ]
}